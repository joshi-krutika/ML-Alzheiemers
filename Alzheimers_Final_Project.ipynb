{
 "cells": [
  {
   "cell_type": "code",
   "execution_count": 1,
   "metadata": {
    "id": "uXoKMBGaJPH1"
   },
   "outputs": [],
   "source": [
    "import pandas as pd\n",
    "import numpy as np\n",
    "import matplotlib.pyplot as plt\n",
    "import matplotlib.image as mpimg\n",
    "import seaborn as sns\n",
    "import math\n",
    "import os\n",
    "import warnings\n",
    "warnings.filterwarnings('ignore')\n",
    "\n",
    "from sklearn.utils.class_weight import compute_class_weight\n",
    "from sklearn.metrics import classification_report, confusion_matrix\n",
    "from sklearn import svm\n",
    "\n",
    "import keras\n",
    "from tensorflow import keras\n",
    "from keras import Sequential\n",
    "from keras import layers\n",
    "import tensorflow as tf\n",
    "from tensorflow.keras.preprocessing import image_dataset_from_directory\n",
    "from tensorflow.keras.preprocessing.image import ImageDataGenerator\n",
    "\n",
    "\n",
    "from tensorflow.keras import Sequential\n",
    "from tensorflow.keras.utils import to_categorical\n",
    "from tensorflow.keras.layers import Dense, Dropout, Activation, BatchNormalization, Flatten, Conv2D, MaxPooling2D\n",
    "from tensorflow.keras.callbacks import ModelCheckpoint, EarlyStopping\n",
    "\n",
    "plt.rcParams[\"figure.figsize\"] = (10,6)\n",
    "plt.rcParams['figure.dpi'] = 300\n",
    "colors = [\"#B6EE56\", \"#D85F9C\", \"#EEA756\", \"#56EEE8\"]"
   ]
  },
  {
   "cell_type": "markdown",
   "metadata": {},
   "source": [
    "# Loading the data"
   ]
  },
  {
   "cell_type": "code",
   "execution_count": 2,
   "metadata": {},
   "outputs": [],
   "source": [
    "PATH_train = 'C:/Users/Krutika/Desktop/SEM-5-Projects/ML-Alzheimers/Alzheimer_s Dataset/train'\n",
    "PATH_test = 'C:/Users/Krutika/Desktop/SEM-5-Projects/ML-Alzheimers/Alzheimer_s Dataset/test'"
   ]
  },
  {
   "cell_type": "code",
   "execution_count": 3,
   "metadata": {
    "colab": {
     "base_uri": "https://localhost:8080/"
    },
    "id": "si3fSRpxSFsv",
    "outputId": "d266abb2-c394-49b1-a051-f5b22ecfd7c9"
   },
   "outputs": [
    {
     "name": "stdout",
     "output_type": "stream",
     "text": [
      "Found 4352 files belonging to 2 classes.\n"
     ]
    }
   ],
   "source": [
    "data = tf.keras.utils.image_dataset_from_directory(PATH_train,\n",
    "                                                batch_size = 32,\n",
    "                                                image_size=(128, 128),\n",
    "                                                shuffle=True,\n",
    "                                                seed=42,)\n",
    "\n",
    "class_names = data.class_names"
   ]
  },
  {
   "cell_type": "code",
   "execution_count": 4,
   "metadata": {},
   "outputs": [
    {
     "name": "stdout",
     "output_type": "stream",
     "text": [
      "Found 1088 files belonging to 2 classes.\n"
     ]
    }
   ],
   "source": [
    "test_data = tf.keras.utils.image_dataset_from_directory(\n",
    "    PATH_test,\n",
    "    batch_size=32,\n",
    "    image_size=(128, 128),\n",
    "    shuffle=False  \n",
    ")"
   ]
  },
  {
   "cell_type": "code",
   "execution_count": 5,
   "metadata": {},
   "outputs": [],
   "source": [
    "def get_dataset_partitions_tf(ds, ds_size, train_split=0.9, val_split=0.1, shuffle=True, shuffle_size=10000):\n",
    "    assert (train_split + val_split) == 1\n",
    "    \n",
    "    if shuffle:\n",
    "        # Specify seed to always have the same split distribution between runs\n",
    "        ds = ds.shuffle(shuffle_size, seed=12)\n",
    "    \n",
    "    train_size = int(train_split * ds_size)\n",
    "    val_size = int(val_split * ds_size)\n",
    "    \n",
    "    train_ds = ds.take(train_size)    \n",
    "    val_ds = ds.skip(train_size).take(val_size)\n",
    "    \n",
    "    return train_ds, val_ds\n"
   ]
  },
  {
   "cell_type": "code",
   "execution_count": 6,
   "metadata": {},
   "outputs": [],
   "source": [
    "dataset_size = data.cardinality().numpy()"
   ]
  },
  {
   "cell_type": "code",
   "execution_count": 7,
   "metadata": {},
   "outputs": [],
   "source": [
    "train_data, val_data = get_dataset_partitions_tf(data,dataset_size, train_split=0.9, val_split=0.1, shuffle=True, shuffle_size=10000)"
   ]
  },
  {
   "cell_type": "markdown",
   "metadata": {},
   "source": [
    "# SVM"
   ]
  },
  {
   "cell_type": "code",
   "execution_count": 9,
   "metadata": {},
   "outputs": [],
   "source": [
    "def dataset_to_numpy(dataset):\n",
    "    images = []\n",
    "    labels = []\n",
    "    for image_batch, label_batch in dataset:\n",
    "        for image in image_batch:\n",
    "            images.append(image.numpy().reshape(-1))  # Flatten image\n",
    "        labels.extend(label_batch.numpy())\n",
    "    return np.array(images), np.array(labels)"
   ]
  },
  {
   "cell_type": "code",
   "execution_count": 10,
   "metadata": {},
   "outputs": [],
   "source": [
    "train_images, train_labels = dataset_to_numpy(train_data)\n",
    "test_images, test_labels = dataset_to_numpy(test_data)"
   ]
  },
  {
   "cell_type": "code",
   "execution_count": 11,
   "metadata": {},
   "outputs": [],
   "source": [
    "train_images = train_images / 255.0  # Normalize pixel values\n",
    "test_images = test_images / 255.0"
   ]
  },
  {
   "cell_type": "code",
   "execution_count": 12,
   "metadata": {},
   "outputs": [],
   "source": [
    "classifier = svm.SVC(gamma=0.001)"
   ]
  },
  {
   "cell_type": "code",
   "execution_count": 13,
   "metadata": {},
   "outputs": [],
   "source": [
    "train_images_flattened = train_images.reshape(len(train_images), -1)\n",
    "test_images_flattened = test_images.reshape(len(test_images), -1)"
   ]
  },
  {
   "cell_type": "code",
   "execution_count": 14,
   "metadata": {},
   "outputs": [
    {
     "data": {
      "text/html": [
       "<style>#sk-container-id-1 {color: black;background-color: white;}#sk-container-id-1 pre{padding: 0;}#sk-container-id-1 div.sk-toggleable {background-color: white;}#sk-container-id-1 label.sk-toggleable__label {cursor: pointer;display: block;width: 100%;margin-bottom: 0;padding: 0.3em;box-sizing: border-box;text-align: center;}#sk-container-id-1 label.sk-toggleable__label-arrow:before {content: \"▸\";float: left;margin-right: 0.25em;color: #696969;}#sk-container-id-1 label.sk-toggleable__label-arrow:hover:before {color: black;}#sk-container-id-1 div.sk-estimator:hover label.sk-toggleable__label-arrow:before {color: black;}#sk-container-id-1 div.sk-toggleable__content {max-height: 0;max-width: 0;overflow: hidden;text-align: left;background-color: #f0f8ff;}#sk-container-id-1 div.sk-toggleable__content pre {margin: 0.2em;color: black;border-radius: 0.25em;background-color: #f0f8ff;}#sk-container-id-1 input.sk-toggleable__control:checked~div.sk-toggleable__content {max-height: 200px;max-width: 100%;overflow: auto;}#sk-container-id-1 input.sk-toggleable__control:checked~label.sk-toggleable__label-arrow:before {content: \"▾\";}#sk-container-id-1 div.sk-estimator input.sk-toggleable__control:checked~label.sk-toggleable__label {background-color: #d4ebff;}#sk-container-id-1 div.sk-label input.sk-toggleable__control:checked~label.sk-toggleable__label {background-color: #d4ebff;}#sk-container-id-1 input.sk-hidden--visually {border: 0;clip: rect(1px 1px 1px 1px);clip: rect(1px, 1px, 1px, 1px);height: 1px;margin: -1px;overflow: hidden;padding: 0;position: absolute;width: 1px;}#sk-container-id-1 div.sk-estimator {font-family: monospace;background-color: #f0f8ff;border: 1px dotted black;border-radius: 0.25em;box-sizing: border-box;margin-bottom: 0.5em;}#sk-container-id-1 div.sk-estimator:hover {background-color: #d4ebff;}#sk-container-id-1 div.sk-parallel-item::after {content: \"\";width: 100%;border-bottom: 1px solid gray;flex-grow: 1;}#sk-container-id-1 div.sk-label:hover label.sk-toggleable__label {background-color: #d4ebff;}#sk-container-id-1 div.sk-serial::before {content: \"\";position: absolute;border-left: 1px solid gray;box-sizing: border-box;top: 0;bottom: 0;left: 50%;z-index: 0;}#sk-container-id-1 div.sk-serial {display: flex;flex-direction: column;align-items: center;background-color: white;padding-right: 0.2em;padding-left: 0.2em;position: relative;}#sk-container-id-1 div.sk-item {position: relative;z-index: 1;}#sk-container-id-1 div.sk-parallel {display: flex;align-items: stretch;justify-content: center;background-color: white;position: relative;}#sk-container-id-1 div.sk-item::before, #sk-container-id-1 div.sk-parallel-item::before {content: \"\";position: absolute;border-left: 1px solid gray;box-sizing: border-box;top: 0;bottom: 0;left: 50%;z-index: -1;}#sk-container-id-1 div.sk-parallel-item {display: flex;flex-direction: column;z-index: 1;position: relative;background-color: white;}#sk-container-id-1 div.sk-parallel-item:first-child::after {align-self: flex-end;width: 50%;}#sk-container-id-1 div.sk-parallel-item:last-child::after {align-self: flex-start;width: 50%;}#sk-container-id-1 div.sk-parallel-item:only-child::after {width: 0;}#sk-container-id-1 div.sk-dashed-wrapped {border: 1px dashed gray;margin: 0 0.4em 0.5em 0.4em;box-sizing: border-box;padding-bottom: 0.4em;background-color: white;}#sk-container-id-1 div.sk-label label {font-family: monospace;font-weight: bold;display: inline-block;line-height: 1.2em;}#sk-container-id-1 div.sk-label-container {text-align: center;}#sk-container-id-1 div.sk-container {/* jupyter's `normalize.less` sets `[hidden] { display: none; }` but bootstrap.min.css set `[hidden] { display: none !important; }` so we also need the `!important` here to be able to override the default hidden behavior on the sphinx rendered scikit-learn.org. See: https://github.com/scikit-learn/scikit-learn/issues/21755 */display: inline-block !important;position: relative;}#sk-container-id-1 div.sk-text-repr-fallback {display: none;}</style><div id=\"sk-container-id-1\" class=\"sk-top-container\"><div class=\"sk-text-repr-fallback\"><pre>SVC(gamma=0.001)</pre><b>In a Jupyter environment, please rerun this cell to show the HTML representation or trust the notebook. <br />On GitHub, the HTML representation is unable to render, please try loading this page with nbviewer.org.</b></div><div class=\"sk-container\" hidden><div class=\"sk-item\"><div class=\"sk-estimator sk-toggleable\"><input class=\"sk-toggleable__control sk-hidden--visually\" id=\"sk-estimator-id-1\" type=\"checkbox\" checked><label for=\"sk-estimator-id-1\" class=\"sk-toggleable__label sk-toggleable__label-arrow\">SVC</label><div class=\"sk-toggleable__content\"><pre>SVC(gamma=0.001)</pre></div></div></div></div></div>"
      ],
      "text/plain": [
       "SVC(gamma=0.001)"
      ]
     },
     "execution_count": 14,
     "metadata": {},
     "output_type": "execute_result"
    }
   ],
   "source": [
    "classifier.fit(train_images_flattened, train_labels)"
   ]
  },
  {
   "cell_type": "code",
   "execution_count": 19,
   "metadata": {},
   "outputs": [],
   "source": [
    "# Predict labels for the test data\n",
    "pred_labels = classifier.predict(test_images_flattened)"
   ]
  },
  {
   "cell_type": "code",
   "execution_count": 20,
   "metadata": {},
   "outputs": [],
   "source": [
    "# print(classification_report(test_images_flattened,pred_target))\n",
    "report = classification_report(test_labels, pred_labels)"
   ]
  },
  {
   "cell_type": "code",
   "execution_count": 22,
   "metadata": {},
   "outputs": [
    {
     "name": "stdout",
     "output_type": "stream",
     "text": [
      "              precision    recall  f1-score   support\n",
      "\n",
      "           0       0.82      0.76      0.79       640\n",
      "           1       0.69      0.76      0.72       448\n",
      "\n",
      "    accuracy                           0.76      1088\n",
      "   macro avg       0.75      0.76      0.76      1088\n",
      "weighted avg       0.77      0.76      0.76      1088\n",
      "\n"
     ]
    }
   ],
   "source": [
    "print(report)"
   ]
  },
  {
   "cell_type": "markdown",
   "metadata": {},
   "source": [
    "# CNN"
   ]
  },
  {
   "cell_type": "code",
   "execution_count": 28,
   "metadata": {
    "colab": {
     "base_uri": "https://localhost:8080/"
    },
    "id": "iBayKWjGSr-L",
    "outputId": "c7c016f7-7414-404e-b9e3-10f19598a03b"
   },
   "outputs": [
    {
     "name": "stdout",
     "output_type": "stream",
     "text": [
      "Model: \"sequential_1\"\n",
      "_________________________________________________________________\n",
      " Layer (type)                Output Shape              Param #   \n",
      "=================================================================\n",
      " conv2d_3 (Conv2D)           (None, 126, 126, 16)      448       \n",
      "                                                                 \n",
      " max_pooling2d_3 (MaxPooling  (None, 63, 63, 16)       0         \n",
      " 2D)                                                             \n",
      "                                                                 \n",
      " conv2d_4 (Conv2D)           (None, 61, 61, 32)        4640      \n",
      "                                                                 \n",
      " max_pooling2d_4 (MaxPooling  (None, 30, 30, 32)       0         \n",
      " 2D)                                                             \n",
      "                                                                 \n",
      " conv2d_5 (Conv2D)           (None, 28, 28, 128)       36992     \n",
      "                                                                 \n",
      " max_pooling2d_5 (MaxPooling  (None, 14, 14, 128)      0         \n",
      " 2D)                                                             \n",
      "                                                                 \n",
      " flatten_1 (Flatten)         (None, 25088)             0         \n",
      "                                                                 \n",
      " dense_3 (Dense)             (None, 128)               3211392   \n",
      "                                                                 \n",
      " dense_4 (Dense)             (None, 64)                8256      \n",
      "                                                                 \n",
      " dense_5 (Dense)             (None, 2)                 130       \n",
      "                                                                 \n",
      "=================================================================\n",
      "Total params: 3,261,858\n",
      "Trainable params: 3,261,858\n",
      "Non-trainable params: 0\n",
      "_________________________________________________________________\n"
     ]
    }
   ],
   "source": [
    "def build_model():\n",
    "    model = Sequential()\n",
    "\n",
    "    model.add(Conv2D(filters=16, kernel_size=(3, 3), strides=(1, 1), activation=\"relu\", kernel_initializer='he_normal',\n",
    "                     input_shape=(128, 128, 3)))\n",
    "    model.add(MaxPooling2D(pool_size=(2, 2)))\n",
    "\n",
    "    model.add(Conv2D(filters=32, kernel_size=(3, 3), strides=(1, 1), activation=\"relu\", kernel_initializer='he_normal'))\n",
    "    model.add(MaxPooling2D(pool_size=(2, 2)))\n",
    "\n",
    "    model.add(Conv2D(filters=128, kernel_size=(3, 3), strides=(1, 1), activation=\"relu\", kernel_initializer='he_normal'))\n",
    "    model.add(MaxPooling2D(pool_size=(2, 2)))\n",
    "\n",
    "    model.add(Flatten())\n",
    "    model.add(Dense(128, activation=\"relu\", kernel_initializer='he_normal'))\n",
    "    model.add(Dense(64, activation=\"relu\"))\n",
    "    model.add(Dense(2, activation=\"softmax\"))\n",
    "\n",
    "    model.compile(optimizer='adam', loss=\"sparse_categorical_crossentropy\", metrics=['accuracy'])\n",
    "\n",
    "    model.summary()\n",
    "\n",
    "    return model\n",
    "\n",
    "model = build_model()"
   ]
  },
  {
   "cell_type": "code",
   "execution_count": 24,
   "metadata": {
    "id": "QenoJvMrSuOi"
   },
   "outputs": [],
   "source": [
    "def checkpoint_callback():\n",
    "\n",
    "    checkpoint_filepath = 'C:/Users/Krutika/Desktop/SEM-5-Projects/ML-Alzheimers/checkpoint'\n",
    "\n",
    "\n",
    "\n",
    "    model_checkpoint_callback= ModelCheckpoint(filepath=checkpoint_filepath,\n",
    "                           save_weights_only=False,\n",
    "                           frequency='epoch',\n",
    "                           monitor='val_accuracy',\n",
    "                           save_best_only=True,\n",
    "                           verbose=1)\n",
    "\n",
    "    return model_checkpoint_callback\n",
    "\n",
    "def early_stopping(patience):\n",
    "    es_callback = tf.keras.callbacks.EarlyStopping(monitor='val_loss', patience=patience, verbose=1)\n",
    "    return es_callback\n",
    "\n",
    "\n",
    "EPOCHS = 18\n",
    "checkpoint_callback = checkpoint_callback()\n",
    "early_stopping = early_stopping(patience=5)\n",
    "callbacks = [checkpoint_callback, early_stopping]"
   ]
  },
  {
   "cell_type": "code",
   "execution_count": 25,
   "metadata": {
    "colab": {
     "base_uri": "https://localhost:8080/"
    },
    "id": "KKzefjIXSymS",
    "outputId": "df6cb12e-c9c1-4dcf-b1f1-34e73ab60a42"
   },
   "outputs": [
    {
     "name": "stdout",
     "output_type": "stream",
     "text": [
      "Epoch 1/18\n",
      "122/122 [==============================] - ETA: 0s - loss: 17.1405 - accuracy: 0.6260\n",
      "Epoch 1: val_accuracy improved from -inf to 0.88221, saving model to C:/Users/Krutika/Desktop/SEM-5-Projects/ML-Alzheimers\\checkpoint\n"
     ]
    },
    {
     "name": "stderr",
     "output_type": "stream",
     "text": [
      "WARNING:absl:Found untraced functions such as _jit_compiled_convolution_op, _jit_compiled_convolution_op, _jit_compiled_convolution_op, _update_step_xla while saving (showing 4 of 4). These functions will not be directly callable after loading.\n"
     ]
    },
    {
     "name": "stdout",
     "output_type": "stream",
     "text": [
      "INFO:tensorflow:Assets written to: C:/Users/Krutika/Desktop/SEM-5-Projects/ML-Alzheimers\\checkpoint\\assets\n"
     ]
    },
    {
     "name": "stderr",
     "output_type": "stream",
     "text": [
      "INFO:tensorflow:Assets written to: C:/Users/Krutika/Desktop/SEM-5-Projects/ML-Alzheimers\\checkpoint\\assets\n"
     ]
    },
    {
     "name": "stdout",
     "output_type": "stream",
     "text": [
      "122/122 [==============================] - 32s 225ms/step - loss: 17.1405 - accuracy: 0.6260 - val_loss: 0.3125 - val_accuracy: 0.8822\n",
      "Epoch 2/18\n",
      "122/122 [==============================] - ETA: 0s - loss: 0.4602 - accuracy: 0.8102\n",
      "Epoch 2: val_accuracy improved from 0.88221 to 0.93510, saving model to C:/Users/Krutika/Desktop/SEM-5-Projects/ML-Alzheimers\\checkpoint\n"
     ]
    },
    {
     "name": "stderr",
     "output_type": "stream",
     "text": [
      "WARNING:absl:Found untraced functions such as _jit_compiled_convolution_op, _jit_compiled_convolution_op, _jit_compiled_convolution_op, _update_step_xla while saving (showing 4 of 4). These functions will not be directly callable after loading.\n"
     ]
    },
    {
     "name": "stdout",
     "output_type": "stream",
     "text": [
      "INFO:tensorflow:Assets written to: C:/Users/Krutika/Desktop/SEM-5-Projects/ML-Alzheimers\\checkpoint\\assets\n"
     ]
    },
    {
     "name": "stderr",
     "output_type": "stream",
     "text": [
      "INFO:tensorflow:Assets written to: C:/Users/Krutika/Desktop/SEM-5-Projects/ML-Alzheimers\\checkpoint\\assets\n"
     ]
    },
    {
     "name": "stdout",
     "output_type": "stream",
     "text": [
      "122/122 [==============================] - 27s 212ms/step - loss: 0.4602 - accuracy: 0.8102 - val_loss: 0.1563 - val_accuracy: 0.9351\n",
      "Epoch 3/18\n",
      "122/122 [==============================] - ETA: 0s - loss: 0.1934 - accuracy: 0.9257\n",
      "Epoch 3: val_accuracy did not improve from 0.93510\n",
      "122/122 [==============================] - 25s 200ms/step - loss: 0.1934 - accuracy: 0.9257 - val_loss: 0.1969 - val_accuracy: 0.9159\n",
      "Epoch 4/18\n",
      "122/122 [==============================] - ETA: 0s - loss: 0.1419 - accuracy: 0.9452\n",
      "Epoch 4: val_accuracy did not improve from 0.93510\n",
      "122/122 [==============================] - 25s 200ms/step - loss: 0.1419 - accuracy: 0.9452 - val_loss: 0.3078 - val_accuracy: 0.8534\n",
      "Epoch 5/18\n",
      "122/122 [==============================] - ETA: 0s - loss: 0.0835 - accuracy: 0.9670\n",
      "Epoch 5: val_accuracy improved from 0.93510 to 0.95913, saving model to C:/Users/Krutika/Desktop/SEM-5-Projects/ML-Alzheimers\\checkpoint\n"
     ]
    },
    {
     "name": "stderr",
     "output_type": "stream",
     "text": [
      "WARNING:absl:Found untraced functions such as _jit_compiled_convolution_op, _jit_compiled_convolution_op, _jit_compiled_convolution_op, _update_step_xla while saving (showing 4 of 4). These functions will not be directly callable after loading.\n"
     ]
    },
    {
     "name": "stdout",
     "output_type": "stream",
     "text": [
      "INFO:tensorflow:Assets written to: C:/Users/Krutika/Desktop/SEM-5-Projects/ML-Alzheimers\\checkpoint\\assets\n"
     ]
    },
    {
     "name": "stderr",
     "output_type": "stream",
     "text": [
      "INFO:tensorflow:Assets written to: C:/Users/Krutika/Desktop/SEM-5-Projects/ML-Alzheimers\\checkpoint\\assets\n"
     ]
    },
    {
     "name": "stdout",
     "output_type": "stream",
     "text": [
      "122/122 [==============================] - 27s 211ms/step - loss: 0.0835 - accuracy: 0.9670 - val_loss: 0.0985 - val_accuracy: 0.9591\n",
      "Epoch 6/18\n",
      "122/122 [==============================] - ETA: 0s - loss: 0.0773 - accuracy: 0.9693\n",
      "Epoch 6: val_accuracy improved from 0.95913 to 0.99279, saving model to C:/Users/Krutika/Desktop/SEM-5-Projects/ML-Alzheimers\\checkpoint\n"
     ]
    },
    {
     "name": "stderr",
     "output_type": "stream",
     "text": [
      "WARNING:absl:Found untraced functions such as _jit_compiled_convolution_op, _jit_compiled_convolution_op, _jit_compiled_convolution_op, _update_step_xla while saving (showing 4 of 4). These functions will not be directly callable after loading.\n"
     ]
    },
    {
     "name": "stdout",
     "output_type": "stream",
     "text": [
      "INFO:tensorflow:Assets written to: C:/Users/Krutika/Desktop/SEM-5-Projects/ML-Alzheimers\\checkpoint\\assets\n"
     ]
    },
    {
     "name": "stderr",
     "output_type": "stream",
     "text": [
      "INFO:tensorflow:Assets written to: C:/Users/Krutika/Desktop/SEM-5-Projects/ML-Alzheimers\\checkpoint\\assets\n"
     ]
    },
    {
     "name": "stdout",
     "output_type": "stream",
     "text": [
      "122/122 [==============================] - 27s 214ms/step - loss: 0.0773 - accuracy: 0.9693 - val_loss: 0.0221 - val_accuracy: 0.9928\n",
      "Epoch 7/18\n",
      "122/122 [==============================] - ETA: 0s - loss: 0.0259 - accuracy: 0.9915\n",
      "Epoch 7: val_accuracy improved from 0.99279 to 0.99760, saving model to C:/Users/Krutika/Desktop/SEM-5-Projects/ML-Alzheimers\\checkpoint\n"
     ]
    },
    {
     "name": "stderr",
     "output_type": "stream",
     "text": [
      "WARNING:absl:Found untraced functions such as _jit_compiled_convolution_op, _jit_compiled_convolution_op, _jit_compiled_convolution_op, _update_step_xla while saving (showing 4 of 4). These functions will not be directly callable after loading.\n"
     ]
    },
    {
     "name": "stdout",
     "output_type": "stream",
     "text": [
      "INFO:tensorflow:Assets written to: C:/Users/Krutika/Desktop/SEM-5-Projects/ML-Alzheimers\\checkpoint\\assets\n"
     ]
    },
    {
     "name": "stderr",
     "output_type": "stream",
     "text": [
      "INFO:tensorflow:Assets written to: C:/Users/Krutika/Desktop/SEM-5-Projects/ML-Alzheimers\\checkpoint\\assets\n"
     ]
    },
    {
     "name": "stdout",
     "output_type": "stream",
     "text": [
      "122/122 [==============================] - 27s 214ms/step - loss: 0.0259 - accuracy: 0.9915 - val_loss: 0.0134 - val_accuracy: 0.9976\n",
      "Epoch 8/18\n",
      "122/122 [==============================] - ETA: 0s - loss: 0.0501 - accuracy: 0.9821\n",
      "Epoch 8: val_accuracy did not improve from 0.99760\n",
      "122/122 [==============================] - 26s 202ms/step - loss: 0.0501 - accuracy: 0.9821 - val_loss: 0.0593 - val_accuracy: 0.9736\n",
      "Epoch 9/18\n",
      "122/122 [==============================] - ETA: 0s - loss: 0.2299 - accuracy: 0.9214\n",
      "Epoch 9: val_accuracy did not improve from 0.99760\n",
      "122/122 [==============================] - 26s 201ms/step - loss: 0.2299 - accuracy: 0.9214 - val_loss: 0.0604 - val_accuracy: 0.9712\n",
      "Epoch 10/18\n",
      "122/122 [==============================] - ETA: 0s - loss: 0.1241 - accuracy: 0.9572\n",
      "Epoch 10: val_accuracy did not improve from 0.99760\n",
      "122/122 [==============================] - 26s 201ms/step - loss: 0.1241 - accuracy: 0.9572 - val_loss: 0.0624 - val_accuracy: 0.9784\n",
      "Epoch 11/18\n",
      "122/122 [==============================] - ETA: 0s - loss: 0.0374 - accuracy: 0.9862\n",
      "Epoch 11: val_accuracy did not improve from 0.99760\n",
      "122/122 [==============================] - 26s 202ms/step - loss: 0.0374 - accuracy: 0.9862 - val_loss: 0.0248 - val_accuracy: 0.9904\n",
      "Epoch 12/18\n",
      "122/122 [==============================] - ETA: 0s - loss: 0.0478 - accuracy: 0.9816\n",
      "Epoch 12: val_accuracy did not improve from 0.99760\n",
      "122/122 [==============================] - 26s 205ms/step - loss: 0.0478 - accuracy: 0.9816 - val_loss: 0.0325 - val_accuracy: 0.9856\n",
      "Epoch 12: early stopping\n"
     ]
    }
   ],
   "source": [
    "history = model.fit(train_data, epochs = EPOCHS, validation_data = val_data, class_weight = class_weights, callbacks = callbacks)"
   ]
  },
  {
   "cell_type": "code",
   "execution_count": 26,
   "metadata": {
    "colab": {
     "base_uri": "https://localhost:8080/"
    },
    "id": "PbGiug7aT94m",
    "outputId": "5913fae6-63d0-4353-b73c-da3cc4a8dc21"
   },
   "outputs": [
    {
     "name": "stdout",
     "output_type": "stream",
     "text": [
      "34/34 [==============================] - 2s 44ms/step - loss: 1.4619 - accuracy: 0.7298\n"
     ]
    },
    {
     "data": {
      "text/plain": [
       "[1.4619392156600952, 0.7297794222831726]"
      ]
     },
     "execution_count": 26,
     "metadata": {},
     "output_type": "execute_result"
    }
   ],
   "source": [
    "model.evaluate(test_data)"
   ]
  },
  {
   "cell_type": "code",
   "execution_count": 27,
   "metadata": {
    "colab": {
     "base_uri": "https://localhost:8080/"
    },
    "id": "1PEqiSTVVeVi",
    "outputId": "2f1e069c-bb93-4af6-a66c-eb97b0fad108"
   },
   "outputs": [
    {
     "name": "stdout",
     "output_type": "stream",
     "text": [
      "                  precision    recall  f1-score   support\n",
      "\n",
      "     NonDemented       0.79      0.73      0.76       640\n",
      "VeryMildDemented       0.66      0.72      0.69       448\n",
      "\n",
      "        accuracy                           0.73      1088\n",
      "       macro avg       0.72      0.73      0.72      1088\n",
      "    weighted avg       0.74      0.73      0.73      1088\n",
      "\n"
     ]
    }
   ],
   "source": [
    "predictions = []\n",
    "labels = []\n",
    "\n",
    "for X, y in test_data.as_numpy_iterator():\n",
    "    y_pred = model.predict(X, verbose=0)\n",
    "    y_prediction = np.argmax(y_pred, axis=1)\n",
    "    predictions.extend(y_prediction)\n",
    "    labels.extend(y)\n",
    "\n",
    "predictions = np.array(predictions)\n",
    "labels = np.array(labels)\n",
    "\n",
    "print(classification_report(labels, predictions, target_names=class_names))"
   ]
  },
  {
   "cell_type": "code",
   "execution_count": null,
   "metadata": {},
   "outputs": [],
   "source": []
  },
  {
   "cell_type": "code",
   "execution_count": null,
   "metadata": {},
   "outputs": [],
   "source": []
  },
  {
   "cell_type": "code",
   "execution_count": null,
   "metadata": {},
   "outputs": [],
   "source": []
  },
  {
   "cell_type": "code",
   "execution_count": null,
   "metadata": {},
   "outputs": [],
   "source": []
  },
  {
   "cell_type": "code",
   "execution_count": 51,
   "metadata": {},
   "outputs": [],
   "source": []
  },
  {
   "cell_type": "code",
   "execution_count": 52,
   "metadata": {},
   "outputs": [],
   "source": []
  },
  {
   "cell_type": "code",
   "execution_count": null,
   "metadata": {},
   "outputs": [],
   "source": []
  },
  {
   "cell_type": "code",
   "execution_count": null,
   "metadata": {},
   "outputs": [],
   "source": []
  }
 ],
 "metadata": {
  "colab": {
   "provenance": []
  },
  "kernelspec": {
   "display_name": "Python 3 (ipykernel)",
   "language": "python",
   "name": "python3"
  },
  "language_info": {
   "codemirror_mode": {
    "name": "ipython",
    "version": 3
   },
   "file_extension": ".py",
   "mimetype": "text/x-python",
   "name": "python",
   "nbconvert_exporter": "python",
   "pygments_lexer": "ipython3",
   "version": "3.10.9"
  }
 },
 "nbformat": 4,
 "nbformat_minor": 1
}
